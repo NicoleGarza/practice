{
 "cells": [
  {
   "cell_type": "code",
   "execution_count": 5,
   "metadata": {},
   "outputs": [],
   "source": [
    "import nltk"
   ]
  },
  {
   "cell_type": "markdown",
   "metadata": {},
   "source": [
    "### First, we will grab a webpage and analyze the text to see what the page is about. urllib module will help us to crawl the webpage"
   ]
  },
  {
   "cell_type": "code",
   "execution_count": 21,
   "metadata": {},
   "outputs": [
    {
     "data": {
      "text/plain": [
       "b'<!DOCTYPE html>\\n<html class=\"client-nojs\" lang=\"en\" dir=\"ltr\">\\n<head>\\n<meta charset=\"UTF-8\"/>\\n<title>SpaceX - Wikipedia</title>\\n<script>document.documentElement.className=document.documentElement.className.replace(/(^|\\\\s)client-nojs(\\\\s|$)/,\"$1client-js$2\");RLCONF={\"wgCanonicalNamespace\":\"\",\"wgCanonicalSpecialPageName\":!1,\"wgNamespaceNumber\":0,\"wgPageName\":\"SpaceX\",\"wgTitle\":\"SpaceX\",\"wgCurRevisionId\":905389646,\"wgRevisionId\":905389646,\"wgArticleId\":832774,\"wgIsArticle\":!0,\"wgIsRedirect\":!1,\"wgAction\":\"view\",\"wgUserName\":null,\"wgUserGroups\":[\"*\"],\"wgCategories\":[\"CS1 maint: BOT: original-url status unknown\",\"CS1 maint: Unfit url\",\"Pages with citations lacking titles\",\"Pages with citations having bare URLs\",\"CS1 French-language sources (fr)\",\"Articles with short description\",\"Use American English from November 2015\",\"All Wikipedia articles written in American English\",\"Use mdy dates from November 2015\",\"Coordinates not on Wikidata\",\"Articles containing potentially dated statements from N'"
      ]
     },
     "execution_count": 21,
     "metadata": {},
     "output_type": "execute_result"
    }
   ],
   "source": [
    "import urllib.request\n",
    "response =  urllib.request.urlopen('https://en.wikipedia.org/wiki/SpaceX')\n",
    "html = response.read()\n",
    "html[:1000]"
   ]
  },
  {
   "cell_type": "markdown",
   "metadata": {},
   "source": [
    "### We will use Beautiful Soup which is a Python library for pulling data out of HTML and XML files. We will use beautiful soup to clean our webpage text of HTML tags.\n"
   ]
  },
  {
   "cell_type": "code",
   "execution_count": 22,
   "metadata": {},
   "outputs": [
    {
     "data": {
      "text/plain": [
       "'SpaceX - Wikipediadocument.documentElement.className=document.documentElement.className.replace(/(^|\\\\s)client-nojs(\\\\s|$)/,\"$1client-js$2\");RLCONF={\"wgCanonicalNamespace\":\"\",\"wgCanonicalSpecialPageName\":!1,\"wgNamespaceNumber\":0,\"wgPageName\":\"SpaceX\",\"wgTitle\":\"SpaceX\",\"wgCurRevisionId\":905389646,\"wgRevisionId\":905389646,\"wgArticleId\":832774,\"wgIsArticle\":!0,\"wgIsRedirect\":!1,\"wgAction\":\"view\",\"wgUserName\":null,\"wgUserGroups\":[\"*\"],\"wgCategories\":[\"CS1 maint: BOT: original-url status unknown\",\"CS1 maint: Unfit url\",\"Pages with citations lacking titles\",\"Pages with citations having bare URLs\",\"CS1 French-language sources (fr)\",\"Articles with short description\",\"Use American English from November 2015\",\"All Wikipedia articles written in American English\",\"Use mdy dates from November 2015\",\"Coordinates not on Wikidata\",\"Articles containing potentially dated statements from November 2017\",\"All articles containing potentially dated statements\",\\n\"Articles containing potentially dated statement'"
      ]
     },
     "execution_count": 22,
     "metadata": {},
     "output_type": "execute_result"
    }
   ],
   "source": [
    "from bs4 import BeautifulSoup\n",
    "soup = BeautifulSoup(html,'html5lib')\n",
    "text = soup.get_text(strip = True)\n",
    "text[:1000]"
   ]
  },
  {
   "cell_type": "markdown",
   "metadata": {},
   "source": [
    "### Now we have clean text from the crawled web page, let’s convert the text into tokens."
   ]
  },
  {
   "cell_type": "code",
   "execution_count": 26,
   "metadata": {},
   "outputs": [
    {
     "data": {
      "text/plain": [
       "['SpaceX',\n",
       " '-',\n",
       " 'Wikipediadocument.documentElement.className=document.documentElement.className.replace(/(^|\\\\s)client-nojs(\\\\s|$)/,\"$1client-js$2\");RLCONF={\"wgCanonicalNamespace\":\"\",\"wgCanonicalSpecialPageName\":!1,\"wgNamespaceNumber\":0,\"wgPageName\":\"SpaceX\",\"wgTitle\":\"SpaceX\",\"wgCurRevisionId\":905389646,\"wgRevisionId\":905389646,\"wgArticleId\":832774,\"wgIsArticle\":!0,\"wgIsRedirect\":!1,\"wgAction\":\"view\",\"wgUserName\":null,\"wgUserGroups\":[\"*\"],\"wgCategories\":[\"CS1',\n",
       " 'maint:',\n",
       " 'BOT:',\n",
       " 'original-url',\n",
       " 'status',\n",
       " 'unknown\",\"CS1',\n",
       " 'maint:',\n",
       " 'Unfit',\n",
       " 'url\",\"Pages',\n",
       " 'with',\n",
       " 'citations',\n",
       " 'lacking',\n",
       " 'titles\",\"Pages',\n",
       " 'with',\n",
       " 'citations',\n",
       " 'having',\n",
       " 'bare',\n",
       " 'URLs\",\"CS1',\n",
       " 'French-language',\n",
       " 'sources',\n",
       " '(fr)\",\"Articles',\n",
       " 'with',\n",
       " 'short']"
      ]
     },
     "execution_count": 26,
     "metadata": {},
     "output_type": "execute_result"
    }
   ],
   "source": [
    "tokens = [t for t in text.split()]\n",
    "tokens[:25]"
   ]
  },
  {
   "cell_type": "markdown",
   "metadata": {},
   "source": [
    "### Count word Frequency. nltk offers a function FreqDist() which will do the job for us. Also, we will remove stop words (a, at, the, for etc) from our web page as we don't need them to hamper our word frequency count. We will plot the graph for most frequently occurring words in the webpage in order to get the clear picture of the context of the web page"
   ]
  },
  {
   "cell_type": "code",
   "execution_count": 27,
   "metadata": {},
   "outputs": [],
   "source": [
    "from nltk.corpus import stopwords\n",
    "import seaborn as sns\n",
    "import matplotlib.pyplot as plt\n",
    "\n",
    "sr= stopwords.words('english')\n",
    "clean_tokens = tokens[:]\n",
    "for token in tokens:\n",
    "    if token in stopwords.words('english'):\n",
    "        \n",
    "        clean_tokens.remove(token)\n",
    "freq = nltk.FreqDist(clean_tokens)\n",
    "# for key,val in freq.items():\n",
    "#     print(str(key) + ':' + str(val))"
   ]
  },
  {
   "cell_type": "code",
   "execution_count": 9,
   "metadata": {},
   "outputs": [
    {
     "data": {
      "image/png": "[encoded data removed]",
      "text/plain": [
       "<Figure size 432x288 with 1 Axes>"
      ]
     },
     "metadata": {
      "needs_background": "light"
     },
     "output_type": "display_data"
    }
   ],
   "source": [
    "freq.plot(20, cumulative=False)"
   ]
  },
  {
   "cell_type": "code",
   "execution_count": null,
   "metadata": {},
   "outputs": [],
   "source": []
  }
 ],
 "metadata": {
  "kernelspec": {
   "display_name": "Python 3",
   "language": "python",
   "name": "python3"
  },
  "language_info": {
   "codemirror_mode": {
    "name": "ipython",
    "version": 3
   },
   "file_extension": ".py",
   "mimetype": "text/x-python",
   "name": "python",
   "nbconvert_exporter": "python",
   "pygments_lexer": "ipython3",
   "version": "3.7.1"
  }
 },
 "nbformat": 4,
 "nbformat_minor": 2
}
